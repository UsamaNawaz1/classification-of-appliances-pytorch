{
 "cells": [
  {
   "cell_type": "code",
   "execution_count": 1,
   "id": "d2bc6713",
   "metadata": {},
   "outputs": [],
   "source": [
    "import matplotlib.pyplot as plt\n",
    "import torch\n",
    "import numpy as np\n",
    "from sklearn.preprocessing import StandardScaler\n",
    "from sklearn.model_selection import StratifiedShuffleSplit\n",
    "\n",
    "from torch.utils.data import Dataset, DataLoader"
   ]
  },
  {
   "cell_type": "code",
   "execution_count": 2,
   "id": "a6314110",
   "metadata": {},
   "outputs": [],
   "source": [
    "import pandas as pd"
   ]
  },
  {
   "cell_type": "code",
   "execution_count": 3,
   "id": "122e0a65",
   "metadata": {},
   "outputs": [],
   "source": [
    "df = pd.read_csv('Sample_20210716.csv')\n"
   ]
  },
  {
   "cell_type": "code",
   "execution_count": 4,
   "id": "da9ae72c",
   "metadata": {
    "scrolled": true
   },
   "outputs": [
    {
     "data": {
      "text/html": [
       "<div>\n",
       "<style scoped>\n",
       "    .dataframe tbody tr th:only-of-type {\n",
       "        vertical-align: middle;\n",
       "    }\n",
       "\n",
       "    .dataframe tbody tr th {\n",
       "        vertical-align: top;\n",
       "    }\n",
       "\n",
       "    .dataframe thead th {\n",
       "        text-align: right;\n",
       "    }\n",
       "</style>\n",
       "<table border=\"1\" class=\"dataframe\">\n",
       "  <thead>\n",
       "    <tr style=\"text-align: right;\">\n",
       "      <th></th>\n",
       "      <th>Unnamed: 0</th>\n",
       "      <th>Sr</th>\n",
       "      <th>Time</th>\n",
       "      <th>kW</th>\n",
       "      <th>Load Detected</th>\n",
       "      <th>AC Detected</th>\n",
       "      <th>Motor</th>\n",
       "      <th>Microwave</th>\n",
       "      <th>result</th>\n",
       "    </tr>\n",
       "  </thead>\n",
       "  <tbody>\n",
       "    <tr>\n",
       "      <th>0</th>\n",
       "      <td>0</td>\n",
       "      <td>43001931690</td>\n",
       "      <td>12:00:00 AM</td>\n",
       "      <td>1.454</td>\n",
       "      <td>0</td>\n",
       "      <td>0</td>\n",
       "      <td>0</td>\n",
       "      <td>0</td>\n",
       "      <td>0</td>\n",
       "    </tr>\n",
       "    <tr>\n",
       "      <th>1</th>\n",
       "      <td>1</td>\n",
       "      <td>43001931690</td>\n",
       "      <td>12:01:00 AM</td>\n",
       "      <td>1.442</td>\n",
       "      <td>0</td>\n",
       "      <td>0</td>\n",
       "      <td>0</td>\n",
       "      <td>0</td>\n",
       "      <td>0</td>\n",
       "    </tr>\n",
       "    <tr>\n",
       "      <th>2</th>\n",
       "      <td>2</td>\n",
       "      <td>43001931690</td>\n",
       "      <td>12:02:00 AM</td>\n",
       "      <td>1.455</td>\n",
       "      <td>0</td>\n",
       "      <td>0</td>\n",
       "      <td>0</td>\n",
       "      <td>0</td>\n",
       "      <td>0</td>\n",
       "    </tr>\n",
       "    <tr>\n",
       "      <th>3</th>\n",
       "      <td>3</td>\n",
       "      <td>43001931690</td>\n",
       "      <td>12:03:00 AM</td>\n",
       "      <td>1.453</td>\n",
       "      <td>0</td>\n",
       "      <td>0</td>\n",
       "      <td>0</td>\n",
       "      <td>0</td>\n",
       "      <td>0</td>\n",
       "    </tr>\n",
       "    <tr>\n",
       "      <th>4</th>\n",
       "      <td>4</td>\n",
       "      <td>43001931690</td>\n",
       "      <td>12:04:00 AM</td>\n",
       "      <td>1.357</td>\n",
       "      <td>0</td>\n",
       "      <td>0</td>\n",
       "      <td>0</td>\n",
       "      <td>0</td>\n",
       "      <td>0</td>\n",
       "    </tr>\n",
       "    <tr>\n",
       "      <th>...</th>\n",
       "      <td>...</td>\n",
       "      <td>...</td>\n",
       "      <td>...</td>\n",
       "      <td>...</td>\n",
       "      <td>...</td>\n",
       "      <td>...</td>\n",
       "      <td>...</td>\n",
       "      <td>...</td>\n",
       "      <td>...</td>\n",
       "    </tr>\n",
       "    <tr>\n",
       "      <th>1427</th>\n",
       "      <td>1427</td>\n",
       "      <td>43001931690</td>\n",
       "      <td>11:55:00 PM</td>\n",
       "      <td>1.518</td>\n",
       "      <td>1</td>\n",
       "      <td>1</td>\n",
       "      <td>0</td>\n",
       "      <td>0</td>\n",
       "      <td>1</td>\n",
       "    </tr>\n",
       "    <tr>\n",
       "      <th>1428</th>\n",
       "      <td>1428</td>\n",
       "      <td>43001931690</td>\n",
       "      <td>11:56:00 PM</td>\n",
       "      <td>1.535</td>\n",
       "      <td>1</td>\n",
       "      <td>1</td>\n",
       "      <td>0</td>\n",
       "      <td>0</td>\n",
       "      <td>1</td>\n",
       "    </tr>\n",
       "    <tr>\n",
       "      <th>1429</th>\n",
       "      <td>1429</td>\n",
       "      <td>43001931690</td>\n",
       "      <td>11:57:00 PM</td>\n",
       "      <td>1.537</td>\n",
       "      <td>1</td>\n",
       "      <td>1</td>\n",
       "      <td>0</td>\n",
       "      <td>0</td>\n",
       "      <td>1</td>\n",
       "    </tr>\n",
       "    <tr>\n",
       "      <th>1430</th>\n",
       "      <td>1430</td>\n",
       "      <td>43001931690</td>\n",
       "      <td>11:58:00 PM</td>\n",
       "      <td>1.535</td>\n",
       "      <td>1</td>\n",
       "      <td>1</td>\n",
       "      <td>0</td>\n",
       "      <td>0</td>\n",
       "      <td>1</td>\n",
       "    </tr>\n",
       "    <tr>\n",
       "      <th>1431</th>\n",
       "      <td>1431</td>\n",
       "      <td>43001931690</td>\n",
       "      <td>11:59:00 PM</td>\n",
       "      <td>1.534</td>\n",
       "      <td>1</td>\n",
       "      <td>1</td>\n",
       "      <td>0</td>\n",
       "      <td>0</td>\n",
       "      <td>1</td>\n",
       "    </tr>\n",
       "  </tbody>\n",
       "</table>\n",
       "<p>1432 rows × 9 columns</p>\n",
       "</div>"
      ],
      "text/plain": [
       "      Unnamed: 0           Sr         Time     kW  Load Detected  AC Detected  \\\n",
       "0              0  43001931690  12:00:00 AM  1.454              0            0   \n",
       "1              1  43001931690  12:01:00 AM  1.442              0            0   \n",
       "2              2  43001931690  12:02:00 AM  1.455              0            0   \n",
       "3              3  43001931690  12:03:00 AM  1.453              0            0   \n",
       "4              4  43001931690  12:04:00 AM  1.357              0            0   \n",
       "...          ...          ...          ...    ...            ...          ...   \n",
       "1427        1427  43001931690  11:55:00 PM  1.518              1            1   \n",
       "1428        1428  43001931690  11:56:00 PM  1.535              1            1   \n",
       "1429        1429  43001931690  11:57:00 PM  1.537              1            1   \n",
       "1430        1430  43001931690  11:58:00 PM  1.535              1            1   \n",
       "1431        1431  43001931690  11:59:00 PM  1.534              1            1   \n",
       "\n",
       "      Motor  Microwave  result  \n",
       "0         0          0       0  \n",
       "1         0          0       0  \n",
       "2         0          0       0  \n",
       "3         0          0       0  \n",
       "4         0          0       0  \n",
       "...     ...        ...     ...  \n",
       "1427      0          0       1  \n",
       "1428      0          0       1  \n",
       "1429      0          0       1  \n",
       "1430      0          0       1  \n",
       "1431      0          0       1  \n",
       "\n",
       "[1432 rows x 9 columns]"
      ]
     },
     "execution_count": 4,
     "metadata": {},
     "output_type": "execute_result"
    }
   ],
   "source": [
    "df"
   ]
  },
  {
   "cell_type": "code",
   "execution_count": 5,
   "id": "178208d0",
   "metadata": {},
   "outputs": [],
   "source": [
    "x = df.iloc[:,3:5].values"
   ]
  },
  {
   "cell_type": "code",
   "execution_count": 6,
   "id": "f3200988",
   "metadata": {},
   "outputs": [
    {
     "data": {
      "text/plain": [
       "array([[1.454, 0.   ],\n",
       "       [1.442, 0.   ],\n",
       "       [1.455, 0.   ],\n",
       "       ...,\n",
       "       [1.537, 1.   ],\n",
       "       [1.535, 1.   ],\n",
       "       [1.534, 1.   ]])"
      ]
     },
     "execution_count": 6,
     "metadata": {},
     "output_type": "execute_result"
    }
   ],
   "source": [
    "x"
   ]
  },
  {
   "cell_type": "code",
   "execution_count": 7,
   "id": "6e644e9f",
   "metadata": {},
   "outputs": [],
   "source": [
    "y = df.iloc[:,-1].values"
   ]
  },
  {
   "cell_type": "code",
   "execution_count": 8,
   "id": "fc8ab8ae",
   "metadata": {},
   "outputs": [
    {
     "data": {
      "text/plain": [
       "array([0, 0, 0, ..., 1, 1, 1], dtype=int64)"
      ]
     },
     "execution_count": 8,
     "metadata": {},
     "output_type": "execute_result"
    }
   ],
   "source": [
    "y"
   ]
  },
  {
   "cell_type": "code",
   "execution_count": 9,
   "id": "c822f7b0",
   "metadata": {},
   "outputs": [],
   "source": [
    "#separate the features into training, testing and validation"
   ]
  },
  {
   "cell_type": "code",
   "execution_count": 10,
   "id": "c3397258",
   "metadata": {},
   "outputs": [],
   "source": [
    "ss = StratifiedShuffleSplit(n_splits = 1, test_size = 0.2, random_state = 31)"
   ]
  },
  {
   "cell_type": "code",
   "execution_count": 11,
   "id": "7dec46ce",
   "metadata": {},
   "outputs": [],
   "source": [
    "for train_index, group_index in ss.split(x,y):\n",
    "    xtrain, xgroup = x[train_index], x[group_index]\n",
    "    ytrain, ygroup = y[train_index], y[group_index]"
   ]
  },
  {
   "cell_type": "code",
   "execution_count": 12,
   "id": "4d2dca08",
   "metadata": {},
   "outputs": [],
   "source": [
    "ss = StratifiedShuffleSplit(n_splits = 1, test_size = 0.5, random_state = 31)\n",
    "for test_index, valid_index in ss.split(xgroup, ygroup):\n",
    "    xtest, xvalid = xgroup[test_index], xgroup[valid_index]\n",
    "    ytest, yvalid = ygroup[test_index], ygroup[valid_index]"
   ]
  },
  {
   "cell_type": "code",
   "execution_count": 13,
   "id": "8f0f9213",
   "metadata": {},
   "outputs": [
    {
     "data": {
      "text/plain": [
       "array([[1.402, 1.   ],\n",
       "       [0.421, 0.   ],\n",
       "       [0.489, 0.   ],\n",
       "       [0.465, 0.   ],\n",
       "       [0.32 , 0.   ],\n",
       "       [0.334, 0.   ],\n",
       "       [1.292, 1.   ],\n",
       "       [1.404, 1.   ],\n",
       "       [1.46 , 1.   ],\n",
       "       [0.466, 1.   ],\n",
       "       [0.509, 0.   ],\n",
       "       [0.404, 0.   ],\n",
       "       [1.443, 1.   ],\n",
       "       [0.528, 0.   ],\n",
       "       [0.372, 0.   ],\n",
       "       [0.472, 1.   ],\n",
       "       [0.326, 0.   ],\n",
       "       [0.339, 0.   ],\n",
       "       [0.413, 0.   ],\n",
       "       [1.364, 0.   ],\n",
       "       [0.469, 0.   ],\n",
       "       [1.461, 1.   ],\n",
       "       [0.339, 0.   ],\n",
       "       [1.454, 1.   ],\n",
       "       [0.466, 0.   ],\n",
       "       [0.505, 0.   ],\n",
       "       [0.473, 0.   ],\n",
       "       [0.419, 0.   ],\n",
       "       [0.932, 1.   ],\n",
       "       [0.474, 0.   ],\n",
       "       [0.414, 0.   ],\n",
       "       [0.406, 0.   ],\n",
       "       [0.393, 0.   ],\n",
       "       [1.579, 0.   ],\n",
       "       [1.527, 1.   ],\n",
       "       [0.433, 0.   ],\n",
       "       [1.288, 1.   ],\n",
       "       [0.489, 1.   ],\n",
       "       [0.355, 0.   ],\n",
       "       [0.426, 0.   ],\n",
       "       [1.442, 1.   ],\n",
       "       [0.466, 0.   ],\n",
       "       [1.457, 1.   ],\n",
       "       [0.567, 0.   ],\n",
       "       [1.374, 0.   ],\n",
       "       [0.421, 0.   ],\n",
       "       [1.473, 1.   ],\n",
       "       [0.478, 0.   ],\n",
       "       [1.468, 1.   ],\n",
       "       [0.384, 0.   ],\n",
       "       [0.345, 0.   ],\n",
       "       [1.441, 1.   ],\n",
       "       [1.478, 1.   ],\n",
       "       [1.478, 1.   ],\n",
       "       [1.475, 1.   ],\n",
       "       [1.412, 1.   ],\n",
       "       [1.416, 1.   ],\n",
       "       [1.463, 1.   ],\n",
       "       [0.506, 0.   ],\n",
       "       [0.394, 0.   ],\n",
       "       [0.335, 0.   ],\n",
       "       [1.373, 0.   ],\n",
       "       [0.472, 0.   ],\n",
       "       [1.437, 1.   ],\n",
       "       [0.605, 0.   ],\n",
       "       [1.302, 1.   ],\n",
       "       [0.377, 0.   ],\n",
       "       [0.387, 0.   ],\n",
       "       [1.472, 1.   ],\n",
       "       [0.461, 0.   ],\n",
       "       [0.415, 0.   ],\n",
       "       [1.515, 1.   ],\n",
       "       [0.405, 0.   ],\n",
       "       [0.552, 0.   ],\n",
       "       [1.434, 1.   ],\n",
       "       [0.505, 0.   ],\n",
       "       [0.333, 0.   ],\n",
       "       [0.487, 1.   ],\n",
       "       [0.46 , 0.   ],\n",
       "       [0.548, 0.   ],\n",
       "       [0.478, 1.   ],\n",
       "       [0.513, 0.   ],\n",
       "       [1.438, 1.   ],\n",
       "       [0.502, 0.   ],\n",
       "       [0.525, 0.   ],\n",
       "       [0.32 , 0.   ],\n",
       "       [0.458, 0.   ],\n",
       "       [0.34 , 0.   ],\n",
       "       [1.352, 0.   ],\n",
       "       [1.304, 1.   ],\n",
       "       [1.441, 1.   ],\n",
       "       [0.323, 0.   ],\n",
       "       [0.393, 0.   ],\n",
       "       [1.379, 0.   ],\n",
       "       [0.459, 0.   ],\n",
       "       [1.521, 1.   ],\n",
       "       [0.476, 0.   ],\n",
       "       [1.4  , 1.   ],\n",
       "       [0.349, 0.   ],\n",
       "       [1.404, 1.   ],\n",
       "       [1.523, 1.   ],\n",
       "       [0.972, 1.   ],\n",
       "       [1.44 , 1.   ],\n",
       "       [0.471, 0.   ],\n",
       "       [0.478, 0.   ],\n",
       "       [1.465, 1.   ],\n",
       "       [0.361, 0.   ],\n",
       "       [0.488, 1.   ],\n",
       "       [1.44 , 1.   ],\n",
       "       [0.397, 0.   ],\n",
       "       [1.368, 0.   ],\n",
       "       [0.626, 0.   ],\n",
       "       [0.44 , 1.   ],\n",
       "       [0.511, 0.   ],\n",
       "       [1.434, 1.   ],\n",
       "       [0.416, 0.   ],\n",
       "       [0.693, 0.   ],\n",
       "       [0.369, 0.   ],\n",
       "       [0.49 , 0.   ],\n",
       "       [1.357, 0.   ],\n",
       "       [1.451, 1.   ],\n",
       "       [0.54 , 0.   ],\n",
       "       [0.323, 0.   ],\n",
       "       [1.525, 1.   ],\n",
       "       [1.466, 1.   ],\n",
       "       [0.418, 0.   ],\n",
       "       [0.333, 0.   ],\n",
       "       [1.427, 1.   ],\n",
       "       [0.377, 0.   ],\n",
       "       [1.426, 1.   ],\n",
       "       [1.359, 0.   ],\n",
       "       [0.481, 1.   ],\n",
       "       [0.432, 0.   ],\n",
       "       [0.396, 0.   ],\n",
       "       [1.549, 1.   ],\n",
       "       [0.429, 0.   ],\n",
       "       [1.455, 1.   ],\n",
       "       [0.374, 0.   ],\n",
       "       [0.34 , 0.   ],\n",
       "       [1.467, 1.   ],\n",
       "       [0.441, 0.   ],\n",
       "       [0.336, 0.   ],\n",
       "       [0.446, 0.   ]])"
      ]
     },
     "execution_count": 13,
     "metadata": {},
     "output_type": "execute_result"
    }
   ],
   "source": [
    "xtest"
   ]
  },
  {
   "cell_type": "code",
   "execution_count": 14,
   "id": "ce7b87c5",
   "metadata": {},
   "outputs": [],
   "source": [
    "#let us standardize the features"
   ]
  },
  {
   "cell_type": "code",
   "execution_count": 15,
   "id": "8a838689",
   "metadata": {},
   "outputs": [],
   "source": [
    "sc = StandardScaler()"
   ]
  },
  {
   "cell_type": "code",
   "execution_count": 16,
   "id": "793636eb",
   "metadata": {},
   "outputs": [],
   "source": [
    "xtrain = sc.fit_transform(xtrain)\n",
    "xtest = sc.transform(xtest)\n",
    "xvalid = sc.transform(xvalid)"
   ]
  },
  {
   "cell_type": "code",
   "execution_count": 17,
   "id": "f636c871",
   "metadata": {},
   "outputs": [],
   "source": [
    "#convering into the tensors"
   ]
  },
  {
   "cell_type": "code",
   "execution_count": 18,
   "id": "cbfb1fd2",
   "metadata": {},
   "outputs": [],
   "source": [
    "xtrain, xtest, xvalid = map(torch.tensor, (xtrain, xtest, xvalid))"
   ]
  },
  {
   "cell_type": "code",
   "execution_count": 19,
   "id": "8f99debe",
   "metadata": {},
   "outputs": [],
   "source": [
    "ytrain, ytest, yvalid = map(torch.tensor, (ytrain, ytest, yvalid))"
   ]
  },
  {
   "cell_type": "code",
   "execution_count": 20,
   "id": "f53b23ae",
   "metadata": {},
   "outputs": [],
   "source": [
    "#making the tensors dtype to float for features( x values )"
   ]
  },
  {
   "cell_type": "code",
   "execution_count": 21,
   "id": "c1c36a10",
   "metadata": {},
   "outputs": [],
   "source": [
    "xtrain = xtrain.float()\n",
    "xtest = xtest.float()\n",
    "xvalid = xvalid.float()"
   ]
  },
  {
   "cell_type": "code",
   "execution_count": 22,
   "id": "4b7b9b2e",
   "metadata": {},
   "outputs": [],
   "source": [
    "#prepare to load the xtrain dataset by dividing it into small chunks"
   ]
  },
  {
   "cell_type": "code",
   "execution_count": 23,
   "id": "2e9d5e65",
   "metadata": {},
   "outputs": [],
   "source": [
    "class dds(Dataset):\n",
    "    def __init__(self, x, y):\n",
    "        self.x = x\n",
    "        self.y = y\n",
    "    \n",
    "    def __getitem__(self,index):\n",
    "        return self.x[index], self.y[index]\n",
    "    \n",
    "    def __len__(self):\n",
    "        return len(self.x)\n",
    "    "
   ]
  },
  {
   "cell_type": "code",
   "execution_count": 24,
   "id": "07db919d",
   "metadata": {},
   "outputs": [],
   "source": [
    "mydata = dds(xtrain, ytrain)\n",
    "train_loader = DataLoader(dataset = mydata, batch_size = 10)"
   ]
  },
  {
   "cell_type": "code",
   "execution_count": 25,
   "id": "d409ad56",
   "metadata": {},
   "outputs": [],
   "source": [
    "# creating the neural network Arc"
   ]
  },
  {
   "cell_type": "code",
   "execution_count": 26,
   "id": "b8ae8826",
   "metadata": {},
   "outputs": [],
   "source": [
    "class FeedForward(torch.nn.Module):\n",
    "    def __init__(self, n_inputs, n_outputs, hidden_size):\n",
    "        super(FeedForward, self).__init__()\n",
    "        self.inputs = n_inputs\n",
    "        self.outputs = n_outputs\n",
    "        self.hidden = hidden_size\n",
    "        \n",
    "        self.fc1 = torch.nn.Linear(self.inputs, self.hidden)\n",
    "        self.fc2 = torch.nn.Linear(self.hidden, self.hidden)\n",
    "        self.fc3 = torch.nn.Linear(self.hidden, self.hidden)\n",
    "        self.fc4 = torch.nn.Linear(self.hidden, self.hidden)\n",
    "        self.fc5 = torch.nn.Linear(self.hidden, self.outputs)\n",
    "        \n",
    "        self.relu = torch.nn.ReLU()\n",
    "        \n",
    "        self.init_weights()\n",
    "        \n",
    "    def init_weights(self):\n",
    "        torch.nn.init.kaiming_normal_(self.fc1.weight)\n",
    "        torch.nn.init.kaiming_normal_(self.fc2.weight)\n",
    "        torch.nn.init.kaiming_normal_(self.fc3.weight)\n",
    "        torch.nn.init.kaiming_normal_(self.fc4.weight)\n",
    "        torch.nn.init.kaiming_normal_(self.fc5.weight)\n",
    "        \n",
    "    def forward(self, features):\n",
    "        output = self.fc1(features)\n",
    "        output = self.relu(output)\n",
    "        output = self.fc2(output)\n",
    "        output = self.relu(output)\n",
    "        output = self.fc3(output)\n",
    "        output = self.relu(output)\n",
    "        output = self.fc4(output)\n",
    "        output = self.relu(output)\n",
    "        output = self.fc5(output)\n",
    "        return output"
   ]
  },
  {
   "cell_type": "code",
   "execution_count": 27,
   "id": "1c63a7ce",
   "metadata": {},
   "outputs": [],
   "source": [
    "model = FeedForward(n_inputs = xtrain.shape[1], n_outputs=4, hidden_size = 200)\n",
    "\n",
    "criterion = torch.nn.CrossEntropyLoss(reduction= 'mean')\n",
    "\n",
    "optimizer = torch.optim.SGD(params = model.parameters(), lr= .001, momentum = 0.9)"
   ]
  },
  {
   "cell_type": "code",
   "execution_count": 28,
   "id": "fc9157c8",
   "metadata": {},
   "outputs": [
    {
     "data": {
      "text/plain": [
       "tensor([1, 1, 0,  ..., 0, 1, 0])"
      ]
     },
     "execution_count": 28,
     "metadata": {},
     "output_type": "execute_result"
    }
   ],
   "source": [
    "#train the network\n",
    "ytrain"
   ]
  },
  {
   "cell_type": "code",
   "execution_count": 29,
   "id": "2aad7183",
   "metadata": {
    "scrolled": true
   },
   "outputs": [
    {
     "name": "stdout",
     "output_type": "stream",
     "text": [
      "accuracy 1.0\n",
      "accuracy 1.0\n",
      "accuracy 1.0\n",
      "accuracy 1.0\n",
      "accuracy 1.0\n",
      "accuracy 1.0\n",
      "accuracy 1.0\n",
      "accuracy 1.0\n",
      "accuracy 1.0\n",
      "accuracy 1.0\n"
     ]
    }
   ],
   "source": [
    "epochs = 10\n",
    "valid_accuracy = [0]\n",
    "\n",
    "for epoch in range(epochs):\n",
    "    for features, targets in train_loader:\n",
    "        output = model.forward(features)\n",
    "        loss = criterion(output, targets)\n",
    "        optimizer.zero_grad()\n",
    "        loss.backward()\n",
    "        optimizer.step()\n",
    "    model.eval()\n",
    "    \n",
    "    c = torch.argmax(output.data, dim = 1)\n",
    "    train_accuracy = (c == targets).sum().item()/targets.shape[0]\n",
    "    print('accuracy', train_accuracy)\n",
    "    \n",
    "    model.train()"
   ]
  },
  {
   "cell_type": "code",
   "execution_count": null,
   "id": "10abc1d3",
   "metadata": {},
   "outputs": [],
   "source": []
  }
 ],
 "metadata": {
  "kernelspec": {
   "display_name": "Python 3",
   "language": "python",
   "name": "python3"
  },
  "language_info": {
   "codemirror_mode": {
    "name": "ipython",
    "version": 3
   },
   "file_extension": ".py",
   "mimetype": "text/x-python",
   "name": "python",
   "nbconvert_exporter": "python",
   "pygments_lexer": "ipython3",
   "version": "3.8.8"
  }
 },
 "nbformat": 4,
 "nbformat_minor": 5
}
